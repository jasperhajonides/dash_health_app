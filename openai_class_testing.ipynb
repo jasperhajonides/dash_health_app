{
 "cells": [
  {
   "cell_type": "code",
   "execution_count": 14,
   "metadata": {},
   "outputs": [
    {
     "name": "stdout",
     "output_type": "stream",
     "text": [
      "The autoreload extension is already loaded. To reload it, use:\n",
      "  %reload_ext autoreload\n"
     ]
    }
   ],
   "source": [
    "import os\n",
    "import base64\n",
    "from llm_code.prompt_generation import PromptGenerator\n",
    "from llm_code.nutrition_api_calls import NutritionExtraction \n",
    "from functions.nutrition_processing import *\n",
    "from functions.nutrition_image import *\n",
    "%load_ext autoreload\n",
    "%autoreload 2\n"
   ]
  },
  {
   "cell_type": "markdown",
   "metadata": {},
   "source": [
    "### set up queries\n"
   ]
  },
  {
   "cell_type": "code",
   "execution_count": 15,
   "metadata": {},
   "outputs": [],
   "source": [
    "weight = 100\n",
    "name = 'mexican inspired chilli ready meal'\n",
    "# Function to encode the image\n",
    "def encode_image(image_path):\n",
    "  with open(image_path, \"rb\") as image_file:\n",
    "    return base64.b64encode(image_file.read()).decode('utf-8')\n",
    "  \n",
    "# Path to your image\n",
    "image_path = \"/Users/jasperhajonides/Documents/Projects/website/dash_health_app/images/IMG_6916 2.HEIC\"\n",
    "image_input = encode_image(image_path)\n",
    "base64_img, file_format = resize_and_crop_image(image_input)\n"
   ]
  },
  {
   "cell_type": "markdown",
   "metadata": {},
   "source": [
    "### Prompts\n"
   ]
  },
  {
   "cell_type": "code",
   "execution_count": 16,
   "metadata": {},
   "outputs": [],
   "source": [
    "# generate prompts\n",
    "pg = PromptGenerator()\n",
    "prompts = pg.generate_prompts(name, weight,)\n"
   ]
  },
  {
   "cell_type": "markdown",
   "metadata": {},
   "source": [
    "### text"
   ]
  },
  {
   "cell_type": "code",
   "execution_count": 122,
   "metadata": {},
   "outputs": [
    {
     "name": "stdout",
     "output_type": "stream",
     "text": [
      " self.full_nutr_dict!!!!!!!!! {'macros': ['protein', 'fat', 'carbohydrates'], 'macros_detailed': ['fiber', 'saturated fat', 'unsaturated fat', 'sugar', 'essential amino acids', 'nonessential amino acids'], 'sugar_types': ['glucose', 'fructose', 'galactose', 'lactose'], 'fiber_types': ['soluble fiber', 'insoluble fiber'], 'fat_types': ['cholesterol'], 'minerals': ['iron', 'magnesium', 'zinc', 'calcium', 'potassium', 'sodium'], 'minerals_detailed': ['phosphorus', 'copper', 'manganese', 'selenium', 'chromium', 'molybdenum', 'iodine'], 'essential amino acids': ['histidine', 'isoleucine', 'leucine', 'lysine', 'methionine', 'phenylalanine', 'threonine', 'tryptophan', 'valine'], 'conditionally essential amino acids': ['arginine', 'cysteine', 'glutamine', 'glycine', 'proline', 'tyrosine'], 'nonessential amino acids': ['alanine', 'aspartic acid', 'asparagine', 'glutamic acid', 'serine', 'selenocysteine', 'pyrrolysine'], 'vitamins': ['vitamin a', 'vitamin c', 'vitamin d', 'vitamin e', 'vitamin k', 'vitamin b'], 'vitamins_detailed': ['thiamin (b1)', 'riboflavin (b2)', 'niacin (b3)', 'vitamin b6', 'folate (b9)', 'vitamin b12', 'biotin', 'pantothenic acid (b5)'], 'indices': ['glycemic index', 'calories']}\n"
     ]
    }
   ],
   "source": [
    "# prepare api for call\n",
    "nutrition_dict, missing_keys = nutrition.openai_api(prompt = prompts['missing_details_text_prompt'])"
   ]
  },
  {
   "cell_type": "code",
   "execution_count": 17,
   "metadata": {},
   "outputs": [
    {
     "name": "stdout",
     "output_type": "stream",
     "text": [
      " self.full_nutr_dict!!!!!!!!! {'indices': ['glycemic index', 'calories', 'weight'], 'macros': ['protein', 'fat', 'carbohydrates'], 'macros_detailed': ['fiber', 'saturated fat', 'unsaturated fat', 'sugar'], 'sugar_types': ['glucose', 'fructose', 'galactose', 'lactose'], 'fiber_types': ['soluble fiber', 'insoluble fiber'], 'fat_types': ['cholesterol'], 'essential amino acids': ['histidine', 'isoleucine', 'leucine', 'lysine', 'methionine', 'phenylalanine', 'threonine', 'tryptophan', 'valine'], 'conditionally essential amino acids': ['arginine', 'cysteine', 'glutamine', 'glycine', 'proline', 'tyrosine'], 'nonessential amino acids': ['alanine', 'aspartic acid', 'asparagine', 'glutamic acid', 'serine', 'selenocysteine', 'pyrrolysine'], 'minerals': ['iron', 'magnesium', 'zinc', 'calcium', 'potassium', 'sodium'], 'minerals_detailed': ['phosphorus', 'copper', 'manganese', 'selenium', 'chromium', 'molybdenum', 'iodine'], 'vitamins': ['vitamin a', 'vitamin c', 'vitamin d', 'vitamin e', 'vitamin k', 'vitamin b'], 'vitamins_detailed': ['thiamin (b1)', 'riboflavin (b2)', 'niacin (b3)', 'vitamin b6', 'folate (b9)', 'vitamin b12', 'biotin', 'pantothenic acid (b5)']}\n"
     ]
    }
   ],
   "source": [
    "# prepare api for call\n",
    "nutrition = NutritionExtraction({})\n",
    "nutrition_dict, missing_keys = nutrition.openai_api(prompt = prompts['text_prompt'])"
   ]
  },
  {
   "cell_type": "code",
   "execution_count": 26,
   "metadata": {},
   "outputs": [
    {
     "data": {
      "text/plain": [
       "{'name': 'Mexican Inspired Chilli Ready Meal',\n",
       " 'weight': 100.0,\n",
       " 'description': 'A spicy and flavorful combination of beans, ground beef, tomatoes, and peppers',\n",
       " 'calories': 200.0,\n",
       " 'carbohydrates': 25.0,\n",
       " 'protein': 15.0,\n",
       " 'fat': 8.0,\n",
       " 'saturated fat': 3.0,\n",
       " 'unsaturated fat': 5.0,\n",
       " 'sugar': 5.0,\n",
       " 'glycemic index': 50.0,\n",
       " 'fiber': 8.0,\n",
       " 'iron': 2.0}"
      ]
     },
     "execution_count": 26,
     "metadata": {},
     "output_type": "execute_result"
    }
   ],
   "source": [
    "nutrition_dict"
   ]
  },
  {
   "cell_type": "code",
   "execution_count": 120,
   "metadata": {},
   "outputs": [
    {
     "data": {
      "text/plain": [
       "({'name': 'Mexican Inspired Chilli Ready Meal',\n",
       "  'weight': '100g',\n",
       "  'description': 'A ready-to-eat meal with a blend of Mexican spices, beans, and meat',\n",
       "  'calories': 250.0,\n",
       "  'carbohydrates': 25.0,\n",
       "  'protein': 15.0,\n",
       "  'fat': 10.0,\n",
       "  'saturated fat': 3.5,\n",
       "  'unsaturated fat': 6.5,\n",
       "  'sugar': 5.0,\n",
       "  'glucose': 2.0,\n",
       "  'fructose': 1.0,\n",
       "  'lactose': 0.0,\n",
       "  'galactose': 0.0,\n",
       "  'glycemic index': 55.0,\n",
       "  'fiber': 8.0,\n",
       "  'soluble fiber': 2.0,\n",
       "  'insoluble fiber': 6.0,\n",
       "  'iron': 2.0,\n",
       "  'histidine': 0.5,\n",
       "  'isoleucine': 1.0,\n",
       "  'leucine': 2.0,\n",
       "  'lysine': 1.5,\n",
       "  'methionine': 0.8,\n",
       "  'phenylalanine': 1.2,\n",
       "  'threonine': 1.0,\n",
       "  'tryptophan': 0.3,\n",
       "  'valine': 1.5,\n",
       "  'essential amino acids': 9.8},\n",
       " ['nonessential amino acids'])"
      ]
     },
     "execution_count": 120,
     "metadata": {},
     "output_type": "execute_result"
    }
   ],
   "source": [
    "nutrition_dict, missing_keys"
   ]
  },
  {
   "cell_type": "code",
   "execution_count": 28,
   "metadata": {},
   "outputs": [],
   "source": [
    "def adjust_child_values_to_not_exceed_parent(json_entry):\n",
    "    # Define parent-child relationships\n",
    "    parent_child_map = {\n",
    "            'carbohydrates': ['fiber', 'sugar'],\n",
    "            'protein': ['nonessential amino acids', 'essential amino acids'],\n",
    "            'sugar': ['glucose', 'fructose', 'galactose', 'lactose'],\n",
    "            'fiber': ['soluble fiber', 'insoluble fiber'],\n",
    "            'fat': ['saturated fat', 'unsaturated fat', 'cholesterol'],\n",
    "            'essential amino acids': ['histidine', 'isoleucine', 'leucine', 'lysine', 'methionine', 'phenylalanine', 'threonine', 'tryptophan', 'valine'],\n",
    "            'conditionally essential amino acids': ['arginine', 'cysteine', 'glutamine', 'glycine', 'proline', 'tyrosine'],\n",
    "            'nonessential amino acids': ['alanine', 'aspartic acid', 'asparagine', 'glutamic acid', 'serine', 'selenocysteine', 'pyrrolysine']\n",
    "    \n",
    "    }\n",
    "\n",
    "    # Adjust child values if their sum exceeds the parent's value\n",
    "    for parent, children in parent_child_map.items():\n",
    "        parent_value = json_entry.get(parent, 0)\n",
    "        child_values = {child: json_entry.get(child, 0) for child in children}\n",
    "        total_child_value = sum(child_values.values())\n",
    "\n",
    "        # If the total of child values exceeds the parent value, scale them down\n",
    "        if total_child_value > parent_value and parent_value > 0:\n",
    "            scale_factor = parent_value / total_child_value\n",
    "            print('rescaling :', scale_factor)\n",
    "            for child, value in child_values.items():\n",
    "                # Scale down each child's value\n",
    "                json_entry[child] = value * scale_factor\n",
    "\n",
    "    return json_entry\n",
    "\n",
    "\n",
    "json_entry = adjust_child_values_to_not_exceed_parent(nutrition_dict)"
   ]
  },
  {
   "cell_type": "markdown",
   "metadata": {},
   "source": [
    "### image"
   ]
  },
  {
   "cell_type": "code",
   "execution_count": 127,
   "metadata": {},
   "outputs": [],
   "source": [
    "\n"
   ]
  },
  {
   "cell_type": "code",
   "execution_count": 155,
   "metadata": {},
   "outputs": [
    {
     "name": "stdout",
     "output_type": "stream",
     "text": [
      "found nutrition class\n",
      "WE ARE GOING TO GENERATE THESE VALS ['glycemic index', 'calories', 'protein', 'fat', 'carbohydrates', 'fiber', 'saturated fat', 'unsaturated fat', 'sugar', 'histidine', 'isoleucine', 'leucine', 'lysine', 'methionine', 'phenylalanine', 'threonine', 'tryptophan', 'valine']\n",
      "Warning: Missing keys '['name', 'description', 'weight', 'protein', 'fat', 'carbohydrates', 'calories']' in json_input to build prompts. Adding them with value None.\n"
     ]
    }
   ],
   "source": [
    "\n",
    "\n",
    "\n",
    "input_desc = 'vegetarian mexican inspired curry with sweet potato'\n",
    "\n",
    "\n",
    "# weight = 100\n",
    "# name = 'small biscuit'\n",
    "\n",
    "# run image extraction \n",
    "nutrition = NutritionExtraction(detail='core')\n",
    "\n",
    "# generate prompts\n",
    "pg = PromptGenerator(nutritionextractor=nutrition)\n",
    "prompts = pg.generate_prompts(name, weight)\n",
    "\n",
    "# run api\n",
    "if input_desc is not None:\n",
    "    prompts['image_text_prompt'] = prompts['image_text_prompt'] + f' The item in the picture is a {input_desc}'\n",
    "nutrition_dict, missing_keys = nutrition.openai_api_image(prompt = prompts['image_text_prompt'], image=base64_img, n=2)"
   ]
  },
  {
   "cell_type": "code",
   "execution_count": 156,
   "metadata": {},
   "outputs": [
    {
     "data": {
      "text/plain": [
       "{'llm_output': 'To estimate the serving size and nutritional values, I\\'ll have to make an educated guess based on what I can observe and assume about the ingredients and their typical portion sizes. Please remember that these numbers could vary significantly in reality.\\n\\n```json\\n{\\n  \"name item\": \"Vegetarian Mexican Inspired Curry with Sweet Potato\",\\n  \"description\": \"A curry dish featuring sweet potatoes, black beans, corn, and rice in a savory and possibly spiced sauce.\",\\n  \"weight\": 350,\\n  \"calories\": 550,\\n  \"carbohydrates\": 100,\\n  \"sugar\": 10,\\n  \"fiber\": 10,\\n  \"protein\": 15,\\n  \"fat\": 10,\\n  \"saturated fat\": 3,\\n  \"unsaturated fat\": 6,\\n  \"cholesterol\": 0,\\n  \"glycemic index\": 65\\n}\\n```\\n\\nKeep in mind that these values are approximations, especially without more specific information on the precise ingredients and amounts used in the dish. The weight is estimated as a typical serving size for a main dish, and the calories and other macronutrients are judged based on the common ingredients found in such a curry.',\n",
       " 'name item': 'Vegetarian Mexican Inspired Curry with Sweet Potato',\n",
       " 'description': 'A curry dish featuring sweet potatoes, black beans, corn, and rice in a savory and possibly spiced sauce.',\n",
       " 'weight': 350.0,\n",
       " 'calories': 480.0,\n",
       " 'carbohydrates': 87.5,\n",
       " 'sugar': 10.0,\n",
       " 'fiber': 9.0,\n",
       " 'protein': 13.5,\n",
       " 'fat': 8.5,\n",
       " 'saturated fat': 2.25,\n",
       " 'unsaturated fat': 5.25,\n",
       " 'cholesterol': 0.0,\n",
       " 'glycemic index': 65.0}"
      ]
     },
     "execution_count": 156,
     "metadata": {},
     "output_type": "execute_result"
    }
   ],
   "source": [
    "nutrition_dict"
   ]
  },
  {
   "cell_type": "code",
   "execution_count": 173,
   "metadata": {},
   "outputs": [
    {
     "name": "stdout",
     "output_type": "stream",
     "text": [
      "found nutrition class\n",
      "WE ARE GOING TO GENERATE THESE VALS ['glycemic index', 'calories', 'weight', 'protein', 'fat', 'carbohydrates', 'fiber', 'saturated fat', 'unsaturated fat', 'sugar', 'histidine', 'isoleucine', 'leucine', 'lysine', 'methionine', 'phenylalanine', 'threonine', 'tryptophan', 'valine']\n",
      "Warning: Missing keys '['name', 'description', 'weight', 'protein', 'fat', 'carbohydrates', 'calories']' in json_input to build prompts. Adding them with value None.\n"
     ]
    }
   ],
   "source": [
    "\n",
    "\n",
    "\n",
    "input_desc = 'vegetarian mexican inspired curry with sweet potato'\n",
    "\n",
    "\n",
    "# weight = 100\n",
    "# name = 'small biscuit'\n",
    "\n",
    "# run image extraction \n",
    "nutrition = NutritionExtraction(detail='core')\n",
    "\n",
    "# generate prompts\n",
    "pg = PromptGenerator(nutritionextractor=nutrition)\n",
    "prompts = pg.generate_prompts(name, weight)\n",
    "\n",
    "# run api\n",
    "if input_desc is not None:\n",
    "    prompts['image_text_prompt'] = prompts['image_text_prompt'] + f' The item in the picture is a {input_desc}'\n",
    "nutrition_dict, missing_keys = nutrition.openai_api_image(prompt = prompts['image_text_prompt'], image=base64_img, n=1)"
   ]
  },
  {
   "cell_type": "code",
   "execution_count": 176,
   "metadata": {},
   "outputs": [
    {
     "data": {
      "text/plain": [
       "{'llm_output': 'To estimate the serving size and nutritional values of the vegetarian Mexican-inspired curry with sweet potato in the picture, we will make some assumptions based on typical serving sizes and ingredients. Please keep in mind that actual nutritional values can vary greatly depending on the specific ingredients and quantities used in the dish.\\n\\nLet\\'s assume this is a standard serving size of approximately 1 cup (about 235 ml) of curry paired with 1 cup of cooked rice (roughly 195 grams). Now, we\\'ll estimate the nutritional content based on this serving size.\\n\\n```json\\n{\\n  \"name\": \"Vegetarian Mexican-Inspired Curry with Sweet Potato\",\\n  \"description\": \"A dish consisting of a spiced curry sauce with sweet potatoes, likely including ingredients such as beans, corn, peppers, and other vegetables served with rice.\",\\n  \"glycemic index\": 50,\\n  \"calories\": 350,\\n  \"weight\": 430,\\n  \"protein\": 8,\\n  \"fat\": 10,\\n  \"carbohydrates\": 60,\\n  \"fiber\": 8,\\n  \"saturated fat\": 3,\\n  \"unsaturated fat\": 4,\\n  \"sugar\": 10,\\n  \"histidine\": 0.2,\\n  \"isoleucine\": 0.3,\\n  \"leucine\": 0.5,\\n  \"lysine\": 0.4,\\n  \"methionine\": 0.1,\\n  \"phenylalanine\": 0.3,\\n  \"threonine\": 0.3,\\n  \"tryptophan\": 0.1,\\n  \"valine\": 0.4\\n}\\n```\\n\\nThe above values are rough estimates and may not accurately reflect the content of the actual dish. Additionally, the amino acid content is not typically calculated for mixed dishes and would require a more detailed analysis of the proportions and types of proteins included in the recipe. The glycemic index provided is a rough estimation as it can vary depending on the exact preparation and combination of ingredients. If a precise nutrition analysis is required, consulting a nutritional database or a dietitian with the exact recipe details would be necessary.',\n",
       " 'name': 'Vegetarian Mexican-Inspired Curry with Sweet Potato',\n",
       " 'description': 'A dish consisting of a spiced curry sauce with sweet potatoes, likely including ingredients such as beans, corn, peppers, and other vegetables served with rice.',\n",
       " 'glycemic index': 52.5,\n",
       " 'calories': 350.0,\n",
       " 'weight': 390.0,\n",
       " 'protein': 10.0,\n",
       " 'fat': 10.0,\n",
       " 'carbohydrates': 55.0,\n",
       " 'fiber': 8.0,\n",
       " 'saturated fat': 3.0,\n",
       " 'unsaturated fat': 4.5,\n",
       " 'sugar': 10.0,\n",
       " 'histidine': 0.25,\n",
       " 'isoleucine': 0.35,\n",
       " 'leucine': 0.6,\n",
       " 'lysine': 0.5,\n",
       " 'methionine': 0.1,\n",
       " 'phenylalanine': 0.4,\n",
       " 'threonine': 0.35,\n",
       " 'tryptophan': 0.1,\n",
       " 'valine': 0.45,\n",
       " 'essential amino acids': 3.1000000000000005}"
      ]
     },
     "execution_count": 176,
     "metadata": {},
     "output_type": "execute_result"
    }
   ],
   "source": [
    "nutrition_dict"
   ]
  },
  {
   "cell_type": "markdown",
   "metadata": {},
   "source": [
    "prompts['image_text_prompt'] "
   ]
  },
  {
   "cell_type": "code",
   "execution_count": 15,
   "metadata": {},
   "outputs": [
    {
     "ename": "NameError",
     "evalue": "name 'nutrition' is not defined",
     "output_type": "error",
     "traceback": [
      "\u001b[0;31m---------------------------------------------------------------------------\u001b[0m",
      "\u001b[0;31mNameError\u001b[0m                                 Traceback (most recent call last)",
      "Cell \u001b[0;32mIn[15], line 2\u001b[0m\n\u001b[1;32m      1\u001b[0m \u001b[38;5;66;03m# generate prompts\u001b[39;00m\n\u001b[0;32m----> 2\u001b[0m pg \u001b[38;5;241m=\u001b[39m PromptGenerator(nutritionextractor\u001b[38;5;241m=\u001b[39m\u001b[43mnutrition\u001b[49m)\n\u001b[1;32m      3\u001b[0m prompts \u001b[38;5;241m=\u001b[39m pg\u001b[38;5;241m.\u001b[39mgenerate_prompts(name, weight)\n\u001b[1;32m      5\u001b[0m \u001b[38;5;66;03m# run api\u001b[39;00m\n",
      "\u001b[0;31mNameError\u001b[0m: name 'nutrition' is not defined"
     ]
    }
   ],
   "source": [
    "\n",
    "# generate prompts\n",
    "pg = PromptGenerator(nutritionextractor=nutrition)\n",
    "prompts = pg.generate_prompts(name, weight)\n",
    "\n",
    "# run api\n",
    "nutrition_dict, missing_keys = nutrition.openai_api_image(prompt = prompts['missing_details_image_prompt'], image=base64_img, n=1)"
   ]
  },
  {
   "cell_type": "code",
   "execution_count": 165,
   "metadata": {},
   "outputs": [
    {
     "data": {
      "text/plain": [
       "\"  We're going to play a game, we're going to estimate some nutritional contents of 425.0g of None.\\n            lets estimate the content of ['histidine', 'isoleucine', 'leucine', 'lysine', 'methionine', 'phenylalanine', 'threonine', 'tryptophan', 'valine'] in grams. return in json format.\\n            \""
      ]
     },
     "execution_count": 165,
     "metadata": {},
     "output_type": "execute_result"
    }
   ],
   "source": [
    "prompts['missing_details_image_prompt']"
   ]
  },
  {
   "cell_type": "code",
   "execution_count": 164,
   "metadata": {},
   "outputs": [
    {
     "data": {
      "text/plain": [
       "{'llm_output': 'To estimate the nutritional values, we\\'ll start by identifying the foods shown in the picture and then we\\'ll use standard nutritional information for those ingredients to estimate the values for the serving size depicted.\\n\\nBased on the image, we see a vegetarian Mexican-inspired curry with sweet potato, which appears to include sweet potatoes, black beans, corn, and rice, enveloped in a tomato-based sauce, possibly with various spices and herbs that are typical for curry dishes.\\n\\nLet\\'s estimate the serving size and nutritional values. Please note that these are rough estimates:\\n\\n- Sweet potatoes: 150g\\n- Black beans: 50g\\n- Corn: 50g\\n- Rice: 150g\\n- Tomato-based curry sauce: 100g\\n\\nThe following nutritional values are estimated based on the assumed quantities and typical values for each component:\\n\\n```json\\n{\\n  \"name item\": \"Vegetarian Mexican Inspired Curry with Sweet Potato\",\\n  \"description\": \"A plate of vegetarian curry featuring sweet potatoes, black beans, corn, and rice, coated in a spiced tomato-based sauce.\",\\n  \"weight\": 500,\\n  \"calories\": 550,\\n  \"carbohydrates\": 105,\\n  \"sugar\": 10,\\n  \"fiber\": 15,\\n  \"protein\": 20,\\n  \"fat\": 10,\\n  \"saturated fat\": 2,\\n  \"unsaturated fat\": 3,\\n  \"cholesterol\": 0,\\n  \"glycemic index\": 65\\n}\\n```\\n\\nThis JSON representation provides a single value for each nutritional property, based on the illustration provided. It is important to note that without exact measurements and specific ingredient information, these values are approximate and should be used as a general guide. A detailed nutritional analysis might',\n",
       " 'name item': 'Vegetarian Mexican Inspired Curry with Sweet Potato',\n",
       " 'description': 'A plate of vegetarian curry featuring sweet potatoes, black beans, corn, and rice, coated in a spiced tomato-based sauce.',\n",
       " 'weight': 425.0,\n",
       " 'calories': 425.0,\n",
       " 'carbohydrates': 82.5,\n",
       " 'sugar': 10.0,\n",
       " 'fiber': 12.0,\n",
       " 'protein': 16.0,\n",
       " 'fat': 8.5,\n",
       " 'saturated fat': 2.0,\n",
       " 'unsaturated fat': 3.0,\n",
       " 'cholesterol': 0.0,\n",
       " 'glycemic index': 57.5,\n",
       " 'name': None}"
      ]
     },
     "execution_count": 164,
     "metadata": {},
     "output_type": "execute_result"
    }
   ],
   "source": [
    "nutrition_dict"
   ]
  },
  {
   "cell_type": "code",
   "execution_count": 33,
   "metadata": {},
   "outputs": [
    {
     "data": {
      "text/plain": [
       "{'llm_output': '```json\\n{\\n  \"name item\": \"Marie biscuit\",\\n  \"description of food content\": \"A simple, round, thin wheat flour-based biscuit with sugar and vanilla flavor\",\\n  \"grams in picture\": \"7\",\\n  \"total calories\": \"30\",\\n  \"carbohydrates\": \"4.5\",\\n  \"sugar\": \"1.4\",\\n  \"fiber\": \"0.2\",\\n  \"protein\": \"0.4\",\\n  \"total fat\": \"0.9\",\\n  \"saturated fat\": \"0.4\",\\n  \"unsaturated fat\": \"0.4\",\\n  \"cholesterol\": \"0\",\\n  \"glycemic index\": \"64\"\\n}\\n```\\n\\nPlease note that the above values are estimates based on typical nutritional information for a Marie biscuit. Actual values may vary between different brands and recipes.',\n",
       " 'name item': 'Marie biscuit',\n",
       " 'description of food content': 'A simple, round, thin wheat flour-based biscuit with sugar and vanilla flavor',\n",
       " 'grams in picture': 6.5,\n",
       " 'total calories': 27.5,\n",
       " 'carbohydrates': 4.25,\n",
       " 'sugar': 0.7,\n",
       " 'fiber': 0.2,\n",
       " 'protein': 0.4,\n",
       " 'total fat': 0.825,\n",
       " 'saturated fat': 0.25,\n",
       " 'unsaturated fat': 0.525,\n",
       " 'cholesterol': 0.0,\n",
       " 'glycemic index': 67.0}"
      ]
     },
     "execution_count": 33,
     "metadata": {},
     "output_type": "execute_result"
    }
   ],
   "source": [
    "processed_data"
   ]
  },
  {
   "cell_type": "code",
   "execution_count": null,
   "metadata": {},
   "outputs": [],
   "source": []
  }
 ],
 "metadata": {
  "kernelspec": {
   "display_name": "garmin",
   "language": "python",
   "name": "python3"
  },
  "language_info": {
   "codemirror_mode": {
    "name": "ipython",
    "version": 3
   },
   "file_extension": ".py",
   "mimetype": "text/x-python",
   "name": "python",
   "nbconvert_exporter": "python",
   "pygments_lexer": "ipython3",
   "version": "3.10.13"
  }
 },
 "nbformat": 4,
 "nbformat_minor": 2
}
